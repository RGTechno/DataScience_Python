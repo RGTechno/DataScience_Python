{
 "cells": [
  {
   "cell_type": "markdown",
   "id": "6be35f5a",
   "metadata": {},
   "source": [
    "## NUMPY"
   ]
  },
  {
   "cell_type": "code",
   "execution_count": 2,
   "id": "6326a3ae",
   "metadata": {},
   "outputs": [
    {
     "output_type": "stream",
     "name": "stdout",
     "text": [
      "Requirement already satisfied: numpy in d:\\python\\lib\\site-packages (1.20.3)\n"
     ]
    }
   ],
   "source": [
    "!pip install numpy  # Installs numpy library from pip"
   ]
  },
  {
   "cell_type": "code",
   "execution_count": 2,
   "id": "8f018f60",
   "metadata": {},
   "outputs": [],
   "source": [
    "import numpy as np  # Import numpy library with alias np to access numpy functions with np"
   ]
  },
  {
   "cell_type": "code",
   "execution_count": 4,
   "id": "6599dce0",
   "metadata": {},
   "outputs": [
    {
     "output_type": "execute_result",
     "data": {
      "text/plain": [
       "5"
      ]
     },
     "metadata": {},
     "execution_count": 4
    }
   ],
   "source": [
    "np.absolute(-5)  # Outputs absolute value"
   ]
  },
  {
   "cell_type": "code",
   "execution_count": 6,
   "id": "b24dbe3f",
   "metadata": {},
   "outputs": [
    {
     "output_type": "stream",
     "name": "stdout",
     "text": [
      "[1 3 5 7]\n"
     ]
    }
   ],
   "source": [
    "# Numpy Arrays\n",
    "\n",
    "a = np.array([1,3,5,7]) # declares numpy array\n",
    "print(a)"
   ]
  },
  {
   "cell_type": "code",
   "execution_count": 9,
   "metadata": {},
   "outputs": [
    {
     "output_type": "stream",
     "name": "stdout",
     "text": [
      "<class 'numpy.ndarray'>\n"
     ]
    }
   ],
   "source": [
    "print(type(a)) # Outputs the type of a variable"
   ]
  },
  {
   "cell_type": "code",
   "execution_count": 12,
   "metadata": {},
   "outputs": [
    {
     "output_type": "stream",
     "name": "stdout",
     "text": [
      "[[ 1  2  3  4  5]\n [ 6  7  8  9 10]]\n"
     ]
    }
   ],
   "source": [
    "b = np.array([[1,2,3,4,5],[6,7,8,9,10]])  # Declares 2D array\n",
    "print(b)"
   ]
  },
  {
   "cell_type": "code",
   "execution_count": 13,
   "metadata": {},
   "outputs": [
    {
     "output_type": "stream",
     "name": "stdout",
     "text": [
      "(4,)\n(2, 5)\n"
     ]
    }
   ],
   "source": [
    "print(a.shape)\n",
    "print(b.shape)\n",
    "\n",
    "# .shape function is used to output the dimension"
   ]
  },
  {
   "cell_type": "code",
   "execution_count": 13,
   "metadata": {},
   "outputs": [
    {
     "output_type": "execute_result",
     "data": {
      "text/plain": [
       "array([[ 1,  6],\n",
       "       [ 2,  7],\n",
       "       [ 3,  8],\n",
       "       [ 4,  9],\n",
       "       [ 5, 10]])"
      ]
     },
     "metadata": {},
     "execution_count": 13
    }
   ],
   "source": [
    "b.T # .T outputs the transpose of matrix"
   ]
  },
  {
   "cell_type": "code",
   "execution_count": 16,
   "metadata": {},
   "outputs": [
    {
     "output_type": "stream",
     "name": "stdout",
     "text": [
      "[[ 55 130]\n [130 330]]\n[[ 55 130]\n [130 330]]\n"
     ]
    }
   ],
   "source": [
    "print(np.dot(b,b.T)) # Results the dot product 'Multiplication of Matrix'\n",
    "print(b.dot(b.T))"
   ]
  },
  {
   "cell_type": "code",
   "execution_count": 16,
   "metadata": {},
   "outputs": [
    {
     "output_type": "execute_result",
     "data": {
      "text/plain": [
       "array([30, 63, 85, 17, 35, 67, 34, 24, 27, 16])"
      ]
     },
     "metadata": {},
     "execution_count": 16
    }
   ],
   "source": [
    "np.random.randint(10,87,10) \n",
    "# Generates a random numpy array of size 10 b/w 10(inclusive) and 87(exclusive)"
   ]
  },
  {
   "cell_type": "code",
   "execution_count": 27,
   "metadata": {},
   "outputs": [
    {
     "output_type": "stream",
     "name": "stdout",
     "text": [
      "[[49 76 85 86 68]\n [50 82 28 20 43]\n [79 31 45 47 42]\n [34 16 50 12 85]\n [78 48 70 55 73]\n [70 39 33 74 70]\n [64 26 67 69 80]\n [75 32 10 82 54]\n [11 10 42 69 29]\n [78 66 29 86 22]] <class 'numpy.ndarray'>\n"
     ]
    }
   ],
   "source": [
    "## Tensor is more than 2 axes\n",
    "\n",
    "matrix = np.random.randint(10,87,(10,5))\n",
    "print(matrix,type(matrix))\n",
    "# Generates a random numpy array of size 10x5 b/w 10(inclusive) and 87(exclusive)"
   ]
  },
  {
   "cell_type": "code",
   "execution_count": 20,
   "metadata": {},
   "outputs": [
    {
     "output_type": "execute_result",
     "data": {
      "text/plain": [
       "11"
      ]
     },
     "metadata": {},
     "execution_count": 20
    }
   ],
   "source": [
    "np.min(matrix) # minimum element in matrix"
   ]
  },
  {
   "cell_type": "code",
   "execution_count": 45,
   "metadata": {},
   "outputs": [
    {
     "output_type": "stream",
     "name": "stdout",
     "text": [
      "[  2  51  56  10   5 -33  56  10  99  39  51   2  56]\n"
     ]
    }
   ],
   "source": [
    "a = np.array([2,51,56,10,5,-33,56,10,99,39,51,2,56])\n",
    "print(a)"
   ]
  },
  {
   "cell_type": "code",
   "execution_count": 32,
   "metadata": {},
   "outputs": [
    {
     "output_type": "execute_result",
     "data": {
      "text/plain": [
       "3"
      ]
     },
     "metadata": {},
     "execution_count": 32
    }
   ],
   "source": [
    "np.argmin(a) # Returns the index of min element in array"
   ]
  },
  {
   "cell_type": "code",
   "execution_count": 34,
   "metadata": {},
   "outputs": [
    {
     "output_type": "execute_result",
     "data": {
      "text/plain": [
       "array([-33,   2,   5,  10,  39,  51,  56,  99])"
      ]
     },
     "metadata": {},
     "execution_count": 34
    }
   ],
   "source": [
    "np.unique(a) # Returns Unique List of Array 'a'(in this case) in sorted order"
   ]
  },
  {
   "cell_type": "code",
   "execution_count": 46,
   "metadata": {},
   "outputs": [
    {
     "output_type": "stream",
     "name": "stdout",
     "text": [
      "(array([-33,   2,   5,  10,  39,  51,  56,  99]), array([1, 2, 1, 2, 1, 2, 3, 1], dtype=int64))\n"
     ]
    }
   ],
   "source": [
    "c = np.unique(a,return_counts=True) # Return unique list but also with their freq\n",
    "print(c)"
   ]
  },
  {
   "cell_type": "code",
   "execution_count": 47,
   "metadata": {},
   "outputs": [
    {
     "output_type": "stream",
     "name": "stdout",
     "text": [
      "[-33   2   5  10  39  51  56  99]\n<class 'tuple'>\n<class 'numpy.ndarray'>\n"
     ]
    }
   ],
   "source": [
    "print(c[0])\n",
    "print(type(c))\n",
    "print(type(c[0]))"
   ]
  },
  {
   "cell_type": "code",
   "execution_count": 38,
   "metadata": {},
   "outputs": [
    {
     "output_type": "stream",
     "name": "stdout",
     "text": [
      "[1 2 1 2 1 1 2 1]\n"
     ]
    }
   ],
   "source": [
    "print(c[1])"
   ]
  },
  {
   "cell_type": "code",
   "execution_count": 41,
   "metadata": {},
   "outputs": [],
   "source": [
    "# Program to find out the Number with Highest Frequency in array"
   ]
  },
  {
   "cell_type": "code",
   "execution_count": 48,
   "metadata": {},
   "outputs": [
    {
     "output_type": "stream",
     "name": "stdout",
     "text": [
      "56\n"
     ]
    }
   ],
   "source": [
    "index = np.argmax(c[1]) # Gives index of highest freq of any number\n",
    "element = c[0][index] # Returns the Element with highest occurence \n",
    "print(element)\n",
    "# print(index)"
   ]
  },
  {
   "cell_type": "code",
   "execution_count": 49,
   "metadata": {},
   "outputs": [
    {
     "output_type": "execute_result",
     "data": {
      "text/plain": [
       "array([[49, 76, 85, 86, 68],\n",
       "       [50, 82, 28, 20, 43],\n",
       "       [79, 31, 45, 47, 42],\n",
       "       [34, 16, 50, 12, 85],\n",
       "       [78, 48, 70, 55, 73],\n",
       "       [70, 39, 33, 74, 70],\n",
       "       [64, 26, 67, 69, 80],\n",
       "       [75, 32, 10, 82, 54],\n",
       "       [11, 10, 42, 69, 29],\n",
       "       [78, 66, 29, 86, 22]])"
      ]
     },
     "metadata": {},
     "execution_count": 49
    }
   ],
   "source": [
    "# Slicing Arrays\n",
    "\n",
    "matrix"
   ]
  },
  {
   "cell_type": "code",
   "execution_count": 50,
   "metadata": {},
   "outputs": [
    {
     "output_type": "stream",
     "name": "stdout",
     "text": [
      "[[31 45 47 42]\n [16 50 12 85]]\n"
     ]
    }
   ],
   "source": [
    "print(matrix[2:4,1:5])"
   ]
  },
  {
   "cell_type": "code",
   "execution_count": 51,
   "metadata": {},
   "outputs": [
    {
     "output_type": "execute_result",
     "data": {
      "text/plain": [
       "49"
      ]
     },
     "metadata": {},
     "execution_count": 51
    }
   ],
   "source": [
    "matrix[0,0]"
   ]
  },
  {
   "cell_type": "code",
   "execution_count": 7,
   "metadata": {},
   "outputs": [
    {
     "output_type": "stream",
     "name": "stdout",
     "text": [
      "Zero matrix  \n [[0. 0. 0.]\n [0. 0. 0.]]\nOnes matrix  \n [[1. 1. 1. 1. 1.]\n [1. 1. 1. 1. 1.]\n [1. 1. 1. 1. 1.]\n [1. 1. 1. 1. 1.]]\nIdentity matrix  \n [[1. 0. 0.]\n [0. 1. 0.]\n [0. 0. 1.]]\nConstant matrix  \n [[8 8 8 8]\n [8 8 8 8]]\n"
     ]
    }
   ],
   "source": [
    "## Different Matrices\n",
    "\n",
    "x = np.zeros((2,3))  # Creates a zero matrix of specified order\n",
    "y = np.ones((4,5))  # Creates a Ones matrix of specified order\n",
    "z = np.eye(3)  # Creates identity matrix of specified order => Square Matrix\n",
    "\n",
    "w = np.full((2,4),8)  # Creates a constant matrix with specified constant of specified order\n",
    "\n",
    "print(\"Zero matrix  \\n\", x)\n",
    "\n",
    "print(\"Ones matrix  \\n\",y)\n",
    "\n",
    "print(\"Identity matrix  \\n\",z)\n",
    "\n",
    "print(\"Constant matrix  \\n\",w)\n"
   ]
  },
  {
   "cell_type": "code",
   "execution_count": 9,
   "metadata": {},
   "outputs": [
    {
     "output_type": "stream",
     "name": "stdout",
     "text": [
      "[ 7  9 11 13 15]\n[ 7  9 11 13 15]\n[-5 -5 -5 -5 -5]\n[-5 -5 -5 -5 -5]\n[ 6 14 24 36 50]\n[ 6 14 24 36 50]\n[0.16666667 0.28571429 0.375      0.44444444 0.5       ]\n[0.16666667 0.28571429 0.375      0.44444444 0.5       ]\n[1.         1.41421356 1.73205081 2.         2.23606798]\n"
     ]
    }
   ],
   "source": [
    "## Arithmetic Operations\n",
    "\n",
    "x = np.array([1,2,3,4,5])\n",
    "y = np.array([6,7,8,9,10])\n",
    "\n",
    "# Element Wise Operations\n",
    "\n",
    "print(x+y)\n",
    "print(np.add(x,y))\n",
    "\n",
    "print(x-y)\n",
    "print(np.subtract(x,y))\n",
    "\n",
    "print(x*y)\n",
    "print(np.multiply(x,y))\n",
    "\n",
    "print(x/y)\n",
    "print(np.divide(x,y))\n",
    "\n",
    "print(np.sqrt(x)) ## Returns array of square root of elements"
   ]
  },
  {
   "cell_type": "code",
   "execution_count": 18,
   "metadata": {},
   "outputs": [
    {
     "output_type": "stream",
     "name": "stdout",
     "text": [
      "[1 2 3 4 5]\n[ 6  7  8  9 10]\n130\n"
     ]
    }
   ],
   "source": [
    "## Multiplication/Dot Product of Vectors = Scalar\n",
    "\n",
    "print(x)\n",
    "print(y)\n",
    "\n",
    "print(np.dot(x,y)) # Results Scalar entity"
   ]
  },
  {
   "cell_type": "code",
   "execution_count": 43,
   "metadata": {},
   "outputs": [
    {
     "output_type": "stream",
     "name": "stdout",
     "text": [
      "[[1 2 3]\n [4 5 6]]\nLinear Sum:  158\nLinear Sum of 2D:  21\nVertical Sum:  [5 7 9]\nHorizontal Sum:  [ 6 15]\n"
     ]
    }
   ],
   "source": [
    "## Sum along axises\n",
    "d1 = np.array([31,22,34,65,6])\n",
    "d2 = np.array([[1,2,3],[4,5,6]])\n",
    "print(d2)\n",
    "\n",
    "print(\"Linear Sum: \",sum(d1)) # Sum of all elements in d1 array\n",
    "print(\"Linear Sum of 2D: \",np.sum(d2)) # Sum of elements in d2 2D array\n",
    "\n",
    "print(\"Vertical Sum: \",np.sum(d2,axis=0)) # Sum of elements along vertical axis\n",
    "print(\"Horizontal Sum: \",np.sum(d2,axis=1)) # Sum of elements along horizontal axis"
   ]
  },
  {
   "cell_type": "code",
   "execution_count": 36,
   "metadata": {},
   "outputs": [
    {
     "output_type": "stream",
     "name": "stdout",
     "text": [
      "[1 2 3 4 5] [ 6  7  8  9 10]\n[[ 1  2  3  4  5]\n [ 6  7  8  9 10]]\n[[ 1  6]\n [ 2  7]\n [ 3  8]\n [ 4  9]\n [ 5 10]]\n"
     ]
    }
   ],
   "source": [
    "## Stacking of Arrays\n",
    "\n",
    "print(x,y)\n",
    "\n",
    "# Note: axis by default is 0 and stack vertically\n",
    "# axis = 0 => Stacks Vertically\n",
    "# axis = 1 => Stacks Horizontally\n",
    "\n",
    "print(np.stack((x,y),axis=0)) # Stacks specified arrays vertically\n",
    "print(np.stack((x,y),axis=1)) # Stacks specified arrays horizontally"
   ]
  },
  {
   "cell_type": "code",
   "execution_count": 48,
   "metadata": {},
   "outputs": [
    {
     "output_type": "stream",
     "name": "stdout",
     "text": [
      "Original: \n [[1 2 3]\n [4 5 6]]\nShape:  (2, 3)\nReshaped: \n [[1]\n [2]\n [3]\n [4]\n [5]\n [6]]\n"
     ]
    }
   ],
   "source": [
    "## Reshape a Numpy Array\n",
    "\n",
    "print(\"Original: \\n\",d2)\n",
    "print(\"Shape: \",d2.shape)  # has 6 elements, try to reshape so every element get its place\n",
    "\n",
    "d1 = d2.reshape((3,2))  # Reshapes 2x3 array into 3x2 array\n",
    "d1 = d2.reshape((-1,2))  # calculates no. of rows automatically when col is provided \n",
    "d1 = d2.reshape((3,-1))  # calculates no. of cols automatically when rows is provided\n",
    "d1 = d2.reshape((6,))  # Reshapes 2x3 array into linear array\n",
    "d1 = d2.reshape((6,1))  # Reshapes 2x3 array into 6x1 array\n",
    "print(\"Reshaped: \\n\",d1)"
   ]
  },
  {
   "cell_type": "code",
   "execution_count": 52,
   "metadata": {},
   "outputs": [
    {
     "output_type": "stream",
     "name": "stdout",
     "text": [
      "[ 7  8  9 10 11 12 13 14 15 16]\n"
     ]
    }
   ],
   "source": [
    "arr = np.arange(10)+7  # Creates an array with given range\n",
    "\n",
    "print(arr)"
   ]
  },
  {
   "source": [
    "## Numpy Random Module\n",
    "- random: returns random float values in interval [0.0,1.0)\n",
    "- rand: Return random value in provided shape\n",
    "- randn: Returns values from standard normal distribution in provided shape\n",
    "- randint: Returns an array with provided no. of elements(10) in provided range (2,9)\n",
    "- choice: Returns a random element from the given array\n",
    "- shuffle: Randomly shuffles the elements of given array"
   ],
   "cell_type": "markdown",
   "metadata": {}
  },
  {
   "cell_type": "code",
   "execution_count": 57,
   "metadata": {},
   "outputs": [
    {
     "output_type": "stream",
     "name": "stdout",
     "text": [
      "[ 8  9 16 12 11 15  7 13 14 10]\n"
     ]
    }
   ],
   "source": [
    "np.random.shuffle(arr)  # Randomly shuffles the elements of given array\n",
    "print(arr)"
   ]
  },
  {
   "cell_type": "code",
   "execution_count": 58,
   "metadata": {},
   "outputs": [
    {
     "output_type": "execute_result",
     "data": {
      "text/plain": [
       "array([[0.19621659, 0.00477666, 0.30012378],\n",
       "       [0.55753521, 0.06361974, 0.58927142]])"
      ]
     },
     "metadata": {},
     "execution_count": 58
    }
   ],
   "source": [
    "np.random.rand(2,3)  # Return random value in provided shape"
   ]
  },
  {
   "cell_type": "code",
   "execution_count": 59,
   "metadata": {},
   "outputs": [
    {
     "output_type": "execute_result",
     "data": {
      "text/plain": [
       "array([[-2.11471418, -0.58050032,  0.16620375],\n",
       "       [-0.33329885, -0.01901488,  2.82669622]])"
      ]
     },
     "metadata": {},
     "execution_count": 59
    }
   ],
   "source": [
    "np.random.randn(2,3)  \n",
    "# Returns values from standard normal distribution in provided shape"
   ]
  },
  {
   "cell_type": "code",
   "execution_count": 60,
   "metadata": {},
   "outputs": [
    {
     "output_type": "execute_result",
     "data": {
      "text/plain": [
       "array([7, 4, 2, 8, 8, 3, 7, 3, 2, 6])"
      ]
     },
     "metadata": {},
     "execution_count": 60
    }
   ],
   "source": [
    "np.random.randint(2,9,10) \n",
    "# Returns an array with provided no. of elements(10) in provided range (2,9)"
   ]
  },
  {
   "cell_type": "code",
   "execution_count": 63,
   "metadata": {},
   "outputs": [
    {
     "output_type": "stream",
     "name": "stdout",
     "text": [
      "14\n"
     ]
    }
   ],
   "source": [
    "random_array_element = np.random.choice(arr)\n",
    "print(random_array_element)\n",
    "\n",
    "# Returns a random element from the given array"
   ]
  },
  {
   "cell_type": "code",
   "execution_count": 64,
   "metadata": {},
   "outputs": [],
   "source": [
    "np.random.seed(5) # Sets a seed value to get similar set of values"
   ]
  },
  {
   "source": [
    "## More Functions in Numpy\n",
    "- mean\n",
    "- average\n",
    "- standard deviation\n",
    "- variation"
   ],
   "cell_type": "markdown",
   "metadata": {}
  },
  {
   "cell_type": "code",
   "execution_count": 69,
   "metadata": {},
   "outputs": [
    {
     "output_type": "stream",
     "name": "stdout",
     "text": [
      "[[ 1 23  4  5  6]\n [22  3 55 32 43]]\n[28  8  6  5  7]\n"
     ]
    }
   ],
   "source": [
    "a = np.array([[1,23,4,5,6],[22,3,55,32,43]])\n",
    "b = np.array([28,8,6,5,7])\n",
    "\n",
    "print(a)\n",
    "print(b)"
   ]
  },
  {
   "cell_type": "code",
   "execution_count": 76,
   "metadata": {},
   "outputs": [
    {
     "output_type": "stream",
     "name": "stdout",
     "text": [
      "10.8\n10.8\n[11.5 13.  29.5 18.5 24.5]\n[ 7.8 31. ]\n"
     ]
    }
   ],
   "source": [
    "# MEAN\n",
    "mean = sum(b)/len(b)\n",
    "print(mean)\n",
    "\n",
    "#Inbuilt Numpy Function for MEAN\n",
    "print(np.mean(b))\n",
    "\n",
    "# Mean Along axis\n",
    "print(np.mean(a,axis=0))\n",
    "print(np.mean(a,axis=1))"
   ]
  },
  {
   "cell_type": "code",
   "execution_count": 77,
   "metadata": {},
   "outputs": [
    {
     "output_type": "stream",
     "name": "stdout",
     "text": [
      "8.55\n"
     ]
    }
   ],
   "source": [
    "# Average\n",
    "\n",
    "# .average() function computes the weighted average of elements in an array according to their respective weight given in another array. The function can have an axis parameter. If the axis is not specified, the array is flattened.\n",
    "\n",
    "w = np.array([2,3,4,5,6])\n",
    "\n",
    "print(np.average(b,weights=w))"
   ]
  },
  {
   "cell_type": "code",
   "execution_count": 82,
   "metadata": {},
   "outputs": [
    {
     "output_type": "stream",
     "name": "stdout",
     "text": [
      "8.657944328765346\n8.657944328765346\n"
     ]
    }
   ],
   "source": [
    "# Standard Deviation\n",
    "u = np.mean(b)\n",
    "stnd = np.sqrt(np.mean((abs(b-u)**2)))\n",
    "print(stnd)\n",
    "\n",
    "# Inbuilt Numpy Function for Standard Deviation\n",
    "print(np.std(b))"
   ]
  },
  {
   "cell_type": "code",
   "execution_count": 83,
   "metadata": {},
   "outputs": [
    {
     "output_type": "stream",
     "name": "stdout",
     "text": [
      "74.96000000000002\n74.96000000000001\n"
     ]
    }
   ],
   "source": [
    "# Variance\n",
    "variance = stnd**2\n",
    "print(variance)\n",
    "\n",
    "# Inbuilt Numpy Function for Variance\n",
    "print(np.var(b))"
   ]
  }
 ],
 "metadata": {
  "kernelspec": {
   "name": "python395jvsc74a57bd04ce0e62306dd6a5716965d4519ada776f947e6dfc145b604b11307c10277ef29",
   "display_name": "Python 3.9.5 64-bit"
  },
  "language_info": {
   "codemirror_mode": {
    "name": "ipython",
    "version": 3
   },
   "file_extension": ".py",
   "mimetype": "text/x-python",
   "name": "python",
   "nbconvert_exporter": "python",
   "pygments_lexer": "ipython3",
   "version": "3.9.5"
  }
 },
 "nbformat": 4,
 "nbformat_minor": 5
}