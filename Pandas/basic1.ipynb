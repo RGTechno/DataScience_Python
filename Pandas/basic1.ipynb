{
 "metadata": {
  "language_info": {
   "codemirror_mode": {
    "name": "ipython",
    "version": 3
   },
   "file_extension": ".py",
   "mimetype": "text/x-python",
   "name": "python",
   "nbconvert_exporter": "python",
   "pygments_lexer": "ipython3",
   "version": "3.9.5"
  },
  "orig_nbformat": 2,
  "kernelspec": {
   "name": "python395jvsc74a57bd04ce0e62306dd6a5716965d4519ada776f947e6dfc145b604b11307c10277ef29",
   "display_name": "Python 3.9.5 64-bit"
  }
 },
 "nbformat": 4,
 "nbformat_minor": 2,
 "cells": [
  {
   "source": [
    "## Pandas"
   ],
   "cell_type": "markdown",
   "metadata": {}
  },
  {
   "cell_type": "code",
   "execution_count": 1,
   "metadata": {},
   "outputs": [
    {
     "output_type": "stream",
     "name": "stdout",
     "text": [
      "Collecting pandas\n  Downloading pandas-1.2.4-cp39-cp39-win_amd64.whl (9.3 MB)\nCollecting pytz>=2017.3\n  Downloading pytz-2021.1-py2.py3-none-any.whl (510 kB)\nRequirement already satisfied: numpy>=1.16.5 in d:\\python\\lib\\site-packages (from pandas) (1.20.3)\nRequirement already satisfied: python-dateutil>=2.7.3 in d:\\python\\lib\\site-packages (from pandas) (2.8.1)\nRequirement already satisfied: six>=1.5 in d:\\python\\lib\\site-packages (from python-dateutil>=2.7.3->pandas) (1.16.0)\nInstalling collected packages: pytz, pandas\nSuccessfully installed pandas-1.2.4 pytz-2021.1\n"
     ]
    }
   ],
   "source": [
    "!pip install pandas"
   ]
  },
  {
   "cell_type": "code",
   "execution_count": 2,
   "metadata": {},
   "outputs": [],
   "source": [
    "import pandas as pd\n",
    "import numpy as np"
   ]
  },
  {
   "cell_type": "code",
   "execution_count": 3,
   "metadata": {},
   "outputs": [],
   "source": [
    "# So Pandas is used to work with data and dataframes. Helps create and Read CSV Files etc."
   ]
  },
  {
   "cell_type": "code",
   "execution_count": 4,
   "metadata": {},
   "outputs": [
    {
     "output_type": "stream",
     "name": "stdout",
     "text": [
      "{'Popularity': array([ 7, 10, 10,  1,  6]), 'Income': array([626307, 680674,  68870, 213381, 543328]), 'projects': array([35, 18, 33, 39,  5])}\n"
     ]
    }
   ],
   "source": [
    "# Let us create a sample data from which we will create a CSV (Comma Separated) File using Pandas\n",
    "\n",
    "actor = {\n",
    "    \"Popularity\": np.random.randint(1,11,5),\n",
    "    \"Income\":np.random.randint(10000,1000000,5),\n",
    "    \"projects\":np.random.randint(5,50,5),\n",
    "}\n",
    "\n",
    "print(actor)"
   ]
  },
  {
   "cell_type": "code",
   "execution_count": 5,
   "metadata": {},
   "outputs": [],
   "source": [
    "df = pd.DataFrame(actor)  # Creates a Dataframe from a iterable Dictionary"
   ]
  },
  {
   "cell_type": "code",
   "execution_count": 6,
   "metadata": {},
   "outputs": [
    {
     "output_type": "stream",
     "name": "stdout",
     "text": [
      "   Popularity  Income  projects\n0           7  626307        35\n1          10  680674        18\n2          10   68870        33\n3           1  213381        39\n4           6  543328         5\n"
     ]
    }
   ],
   "source": [
    "print(df)"
   ]
  },
  {
   "cell_type": "code",
   "execution_count": 7,
   "metadata": {},
   "outputs": [
    {
     "output_type": "execute_result",
     "data": {
      "text/plain": [
       "   Popularity  Income  projects\n",
       "0           7  626307        35\n",
       "1          10  680674        18\n",
       "2          10   68870        33"
      ],
      "text/html": "<div>\n<style scoped>\n    .dataframe tbody tr th:only-of-type {\n        vertical-align: middle;\n    }\n\n    .dataframe tbody tr th {\n        vertical-align: top;\n    }\n\n    .dataframe thead th {\n        text-align: right;\n    }\n</style>\n<table border=\"1\" class=\"dataframe\">\n  <thead>\n    <tr style=\"text-align: right;\">\n      <th></th>\n      <th>Popularity</th>\n      <th>Income</th>\n      <th>projects</th>\n    </tr>\n  </thead>\n  <tbody>\n    <tr>\n      <th>0</th>\n      <td>7</td>\n      <td>626307</td>\n      <td>35</td>\n    </tr>\n    <tr>\n      <th>1</th>\n      <td>10</td>\n      <td>680674</td>\n      <td>18</td>\n    </tr>\n    <tr>\n      <th>2</th>\n      <td>10</td>\n      <td>68870</td>\n      <td>33</td>\n    </tr>\n  </tbody>\n</table>\n</div>"
     },
     "metadata": {},
     "execution_count": 7
    }
   ],
   "source": [
    "df.head()  # Nicely tables in table format\n",
    "\n",
    "df.head(n=3)  # Return specified number of rows in Dataframe"
   ]
  },
  {
   "cell_type": "code",
   "execution_count": 8,
   "metadata": {},
   "outputs": [
    {
     "output_type": "execute_result",
     "data": {
      "text/plain": [
       "Index(['Popularity', 'Income', 'projects'], dtype='object')"
      ]
     },
     "metadata": {},
     "execution_count": 8
    }
   ],
   "source": [
    "df.columns  # Return the column names in DataFrame"
   ]
  },
  {
   "cell_type": "code",
   "execution_count": 9,
   "metadata": {},
   "outputs": [],
   "source": [
    "df.to_csv(\"actors_data.csv\") \n",
    "# Creates a CSV file with specified filename in specified path"
   ]
  },
  {
   "source": [
    "### Reading From CSV"
   ],
   "cell_type": "markdown",
   "metadata": {}
  },
  {
   "cell_type": "code",
   "execution_count": 15,
   "metadata": {},
   "outputs": [],
   "source": [
    "data = pd.read_csv(\"actors_data.csv\") # Reads data from CSV file"
   ]
  },
  {
   "cell_type": "code",
   "execution_count": 11,
   "metadata": {},
   "outputs": [
    {
     "output_type": "stream",
     "name": "stdout",
     "text": [
      "   Unnamed: 0  Popularity  Income  projects\n0           0           7  626307        35\n1           1          10  680674        18\n2           2          10   68870        33\n3           3           1  213381        39\n4           4           6  543328         5\n"
     ]
    }
   ],
   "source": [
    "print(data)"
   ]
  },
  {
   "cell_type": "code",
   "execution_count": 12,
   "metadata": {},
   "outputs": [
    {
     "output_type": "execute_result",
     "data": {
      "text/plain": [
       "   Popularity  Income  projects\n",
       "0           7  626307        35\n",
       "1          10  680674        18\n",
       "2          10   68870        33\n",
       "3           1  213381        39\n",
       "4           6  543328         5"
      ],
      "text/html": "<div>\n<style scoped>\n    .dataframe tbody tr th:only-of-type {\n        vertical-align: middle;\n    }\n\n    .dataframe tbody tr th {\n        vertical-align: top;\n    }\n\n    .dataframe thead th {\n        text-align: right;\n    }\n</style>\n<table border=\"1\" class=\"dataframe\">\n  <thead>\n    <tr style=\"text-align: right;\">\n      <th></th>\n      <th>Popularity</th>\n      <th>Income</th>\n      <th>projects</th>\n    </tr>\n  </thead>\n  <tbody>\n    <tr>\n      <th>0</th>\n      <td>7</td>\n      <td>626307</td>\n      <td>35</td>\n    </tr>\n    <tr>\n      <th>1</th>\n      <td>10</td>\n      <td>680674</td>\n      <td>18</td>\n    </tr>\n    <tr>\n      <th>2</th>\n      <td>10</td>\n      <td>68870</td>\n      <td>33</td>\n    </tr>\n    <tr>\n      <th>3</th>\n      <td>1</td>\n      <td>213381</td>\n      <td>39</td>\n    </tr>\n    <tr>\n      <th>4</th>\n      <td>6</td>\n      <td>543328</td>\n      <td>5</td>\n    </tr>\n  </tbody>\n</table>\n</div>"
     },
     "metadata": {},
     "execution_count": 12
    }
   ],
   "source": [
    "# Now you see we have an unnamed column\n",
    "\n",
    "# To Drop it\n",
    "data.drop(columns=['Unnamed: 0'])"
   ]
  },
  {
   "cell_type": "code",
   "execution_count": 13,
   "metadata": {},
   "outputs": [
    {
     "output_type": "execute_result",
     "data": {
      "text/plain": [
       "(5, 4)"
      ]
     },
     "metadata": {},
     "execution_count": 13
    }
   ],
   "source": [
    "data.shape # SEE No. of columns did not change even after dropping"
   ]
  },
  {
   "cell_type": "code",
   "execution_count": 14,
   "metadata": {},
   "outputs": [],
   "source": [
    "# Setting index = false doesn't creates extra column with indexes\n",
    "\n",
    "df.to_csv(\"actors_data.csv\",index=False) "
   ]
  },
  {
   "cell_type": "code",
   "execution_count": 16,
   "metadata": {},
   "outputs": [
    {
     "output_type": "stream",
     "name": "stdout",
     "text": [
      "   Popularity  Income  projects\n0           7  626307        35\n1          10  680674        18\n2          10   68870        33\n3           1  213381        39\n4           6  543328         5\n"
     ]
    }
   ],
   "source": [
    "print(data)"
   ]
  },
  {
   "cell_type": "code",
   "execution_count": 17,
   "metadata": {},
   "outputs": [
    {
     "output_type": "execute_result",
     "data": {
      "text/plain": [
       "(5, 3)"
      ]
     },
     "metadata": {},
     "execution_count": 17
    }
   ],
   "source": [
    "data.shape"
   ]
  },
  {
   "cell_type": "code",
   "execution_count": 18,
   "metadata": {},
   "outputs": [
    {
     "output_type": "execute_result",
     "data": {
      "text/plain": [
       "   Popularity  Income  projects\n",
       "0           7  626307        35\n",
       "1          10  680674        18\n",
       "2          10   68870        33\n",
       "3           1  213381        39\n",
       "4           6  543328         5"
      ],
      "text/html": "<div>\n<style scoped>\n    .dataframe tbody tr th:only-of-type {\n        vertical-align: middle;\n    }\n\n    .dataframe tbody tr th {\n        vertical-align: top;\n    }\n\n    .dataframe thead th {\n        text-align: right;\n    }\n</style>\n<table border=\"1\" class=\"dataframe\">\n  <thead>\n    <tr style=\"text-align: right;\">\n      <th></th>\n      <th>Popularity</th>\n      <th>Income</th>\n      <th>projects</th>\n    </tr>\n  </thead>\n  <tbody>\n    <tr>\n      <th>0</th>\n      <td>7</td>\n      <td>626307</td>\n      <td>35</td>\n    </tr>\n    <tr>\n      <th>1</th>\n      <td>10</td>\n      <td>680674</td>\n      <td>18</td>\n    </tr>\n    <tr>\n      <th>2</th>\n      <td>10</td>\n      <td>68870</td>\n      <td>33</td>\n    </tr>\n    <tr>\n      <th>3</th>\n      <td>1</td>\n      <td>213381</td>\n      <td>39</td>\n    </tr>\n    <tr>\n      <th>4</th>\n      <td>6</td>\n      <td>543328</td>\n      <td>5</td>\n    </tr>\n  </tbody>\n</table>\n</div>"
     },
     "metadata": {},
     "execution_count": 18
    }
   ],
   "source": [
    "data.head()"
   ]
  },
  {
   "cell_type": "code",
   "execution_count": 20,
   "metadata": {},
   "outputs": [
    {
     "output_type": "execute_result",
     "data": {
      "text/plain": [
       "   Popularity  Income  projects\n",
       "3           1  213381        39\n",
       "4           6  543328         5"
      ],
      "text/html": "<div>\n<style scoped>\n    .dataframe tbody tr th:only-of-type {\n        vertical-align: middle;\n    }\n\n    .dataframe tbody tr th {\n        vertical-align: top;\n    }\n\n    .dataframe thead th {\n        text-align: right;\n    }\n</style>\n<table border=\"1\" class=\"dataframe\">\n  <thead>\n    <tr style=\"text-align: right;\">\n      <th></th>\n      <th>Popularity</th>\n      <th>Income</th>\n      <th>projects</th>\n    </tr>\n  </thead>\n  <tbody>\n    <tr>\n      <th>3</th>\n      <td>1</td>\n      <td>213381</td>\n      <td>39</td>\n    </tr>\n    <tr>\n      <th>4</th>\n      <td>6</td>\n      <td>543328</td>\n      <td>5</td>\n    </tr>\n  </tbody>\n</table>\n</div>"
     },
     "metadata": {},
     "execution_count": 20
    }
   ],
   "source": [
    "data.tail(n=2) # Works Similar to head() but Returns from bottom"
   ]
  },
  {
   "cell_type": "code",
   "execution_count": 21,
   "metadata": {},
   "outputs": [
    {
     "output_type": "execute_result",
     "data": {
      "text/plain": [
       "       Popularity         Income   projects\n",
       "count    5.000000       5.000000   5.000000\n",
       "mean     6.800000  426512.000000  26.000000\n",
       "std      3.701351  269951.368514  14.177447\n",
       "min      1.000000   68870.000000   5.000000\n",
       "25%      6.000000  213381.000000  18.000000\n",
       "50%      7.000000  543328.000000  33.000000\n",
       "75%     10.000000  626307.000000  35.000000\n",
       "max     10.000000  680674.000000  39.000000"
      ],
      "text/html": "<div>\n<style scoped>\n    .dataframe tbody tr th:only-of-type {\n        vertical-align: middle;\n    }\n\n    .dataframe tbody tr th {\n        vertical-align: top;\n    }\n\n    .dataframe thead th {\n        text-align: right;\n    }\n</style>\n<table border=\"1\" class=\"dataframe\">\n  <thead>\n    <tr style=\"text-align: right;\">\n      <th></th>\n      <th>Popularity</th>\n      <th>Income</th>\n      <th>projects</th>\n    </tr>\n  </thead>\n  <tbody>\n    <tr>\n      <th>count</th>\n      <td>5.000000</td>\n      <td>5.000000</td>\n      <td>5.000000</td>\n    </tr>\n    <tr>\n      <th>mean</th>\n      <td>6.800000</td>\n      <td>426512.000000</td>\n      <td>26.000000</td>\n    </tr>\n    <tr>\n      <th>std</th>\n      <td>3.701351</td>\n      <td>269951.368514</td>\n      <td>14.177447</td>\n    </tr>\n    <tr>\n      <th>min</th>\n      <td>1.000000</td>\n      <td>68870.000000</td>\n      <td>5.000000</td>\n    </tr>\n    <tr>\n      <th>25%</th>\n      <td>6.000000</td>\n      <td>213381.000000</td>\n      <td>18.000000</td>\n    </tr>\n    <tr>\n      <th>50%</th>\n      <td>7.000000</td>\n      <td>543328.000000</td>\n      <td>33.000000</td>\n    </tr>\n    <tr>\n      <th>75%</th>\n      <td>10.000000</td>\n      <td>626307.000000</td>\n      <td>35.000000</td>\n    </tr>\n    <tr>\n      <th>max</th>\n      <td>10.000000</td>\n      <td>680674.000000</td>\n      <td>39.000000</td>\n    </tr>\n  </tbody>\n</table>\n</div>"
     },
     "metadata": {},
     "execution_count": 21
    }
   ],
   "source": [
    "data.describe()  # Returns Some basic operations on data"
   ]
  },
  {
   "cell_type": "code",
   "execution_count": 25,
   "metadata": {},
   "outputs": [
    {
     "output_type": "execute_result",
     "data": {
      "text/plain": [
       "Popularity       10\n",
       "Income        68870\n",
       "projects         33\n",
       "Name: 2, dtype: int32"
      ]
     },
     "metadata": {},
     "execution_count": 25
    }
   ],
   "source": [
    "# To read data at Locations\n",
    "\n",
    "#Row\n",
    "df.iloc[2]  # Returns data at 2nd index => 3rd Row"
   ]
  },
  {
   "cell_type": "code",
   "execution_count": 28,
   "metadata": {},
   "outputs": [
    {
     "output_type": "execute_result",
     "data": {
      "text/plain": [
       "68870"
      ]
     },
     "metadata": {},
     "execution_count": 28
    }
   ],
   "source": [
    "#Row and Column\n",
    "df.iloc[2,1]\n",
    "df.iloc[2][1]"
   ]
  },
  {
   "cell_type": "code",
   "execution_count": 32,
   "metadata": {},
   "outputs": [
    {
     "output_type": "stream",
     "name": "stdout",
     "text": [
      "1\n680674\n[1, 0]\nIncome        680674\nPopularity        10\nName: 1, dtype: int32\n"
     ]
    }
   ],
   "source": [
    "# If you don't know the index of column\n",
    "\n",
    "index = df.columns.get_loc(\"Income\")\n",
    "print(index)\n",
    "\n",
    "print(df.iloc[1,index])\n",
    "\n",
    "# If you want data from multiple column of unknown index\n",
    "index = [df.columns.get_loc(\"Income\"),df.columns.get_loc(\"Popularity\")] # Store In List\n",
    "print(index)\n",
    "print(df.iloc[1,index])"
   ]
  },
  {
   "cell_type": "code",
   "execution_count": 33,
   "metadata": {},
   "outputs": [
    {
     "output_type": "execute_result",
     "data": {
      "text/plain": [
       "   Income  Popularity\n",
       "0  626307           7\n",
       "1  680674          10\n",
       "2   68870          10"
      ],
      "text/html": "<div>\n<style scoped>\n    .dataframe tbody tr th:only-of-type {\n        vertical-align: middle;\n    }\n\n    .dataframe tbody tr th {\n        vertical-align: top;\n    }\n\n    .dataframe thead th {\n        text-align: right;\n    }\n</style>\n<table border=\"1\" class=\"dataframe\">\n  <thead>\n    <tr style=\"text-align: right;\">\n      <th></th>\n      <th>Income</th>\n      <th>Popularity</th>\n    </tr>\n  </thead>\n  <tbody>\n    <tr>\n      <th>0</th>\n      <td>626307</td>\n      <td>7</td>\n    </tr>\n    <tr>\n      <th>1</th>\n      <td>680674</td>\n      <td>10</td>\n    </tr>\n    <tr>\n      <th>2</th>\n      <td>68870</td>\n      <td>10</td>\n    </tr>\n  </tbody>\n</table>\n</div>"
     },
     "metadata": {},
     "execution_count": 33
    }
   ],
   "source": [
    "# Slicing in Location\n",
    "\n",
    "df.iloc[:3,index]"
   ]
  },
  {
   "cell_type": "code",
   "execution_count": 35,
   "metadata": {},
   "outputs": [
    {
     "output_type": "execute_result",
     "data": {
      "text/plain": [
       "   Popularity  Income  projects\n",
       "1          10  680674        18\n",
       "2          10   68870        33\n",
       "0           7  626307        35\n",
       "4           6  543328         5\n",
       "3           1  213381        39"
      ],
      "text/html": "<div>\n<style scoped>\n    .dataframe tbody tr th:only-of-type {\n        vertical-align: middle;\n    }\n\n    .dataframe tbody tr th {\n        vertical-align: top;\n    }\n\n    .dataframe thead th {\n        text-align: right;\n    }\n</style>\n<table border=\"1\" class=\"dataframe\">\n  <thead>\n    <tr style=\"text-align: right;\">\n      <th></th>\n      <th>Popularity</th>\n      <th>Income</th>\n      <th>projects</th>\n    </tr>\n  </thead>\n  <tbody>\n    <tr>\n      <th>1</th>\n      <td>10</td>\n      <td>680674</td>\n      <td>18</td>\n    </tr>\n    <tr>\n      <th>2</th>\n      <td>10</td>\n      <td>68870</td>\n      <td>33</td>\n    </tr>\n    <tr>\n      <th>0</th>\n      <td>7</td>\n      <td>626307</td>\n      <td>35</td>\n    </tr>\n    <tr>\n      <th>4</th>\n      <td>6</td>\n      <td>543328</td>\n      <td>5</td>\n    </tr>\n    <tr>\n      <th>3</th>\n      <td>1</td>\n      <td>213381</td>\n      <td>39</td>\n    </tr>\n  </tbody>\n</table>\n</div>"
     },
     "metadata": {},
     "execution_count": 35
    }
   ],
   "source": [
    "# Sorts the values in Dataframe by priorities as well \n",
    "data.sort_values(by=[\"Popularity\",\"Income\"],ascending=False)"
   ]
  },
  {
   "cell_type": "code",
   "execution_count": 36,
   "metadata": {},
   "outputs": [
    {
     "output_type": "stream",
     "name": "stdout",
     "text": [
      "[[     7 626307     35]\n [    10 680674     18]\n [    10  68870     33]\n [     1 213381     39]\n [     6 543328      5]]\n"
     ]
    }
   ],
   "source": [
    "data_array = data.values  # Returns numpy array of values in dataframe\n",
    "print(data_array)"
   ]
  },
  {
   "cell_type": "code",
   "execution_count": 37,
   "metadata": {},
   "outputs": [
    {
     "output_type": "stream",
     "name": "stdout",
     "text": [
      "(5, 3)\n(5, 3)\n"
     ]
    }
   ],
   "source": [
    "print(data.shape)\n",
    "print(data_array.shape)"
   ]
  },
  {
   "cell_type": "code",
   "execution_count": 39,
   "metadata": {},
   "outputs": [],
   "source": [
    "# We Can convert the numpy array back to new dataframe\n",
    "\n",
    "new_df = pd.DataFrame(data_array,columns=[\"Gpa\",\"Salary\",\"work\"])"
   ]
  },
  {
   "cell_type": "code",
   "execution_count": 40,
   "metadata": {},
   "outputs": [
    {
     "output_type": "execute_result",
     "data": {
      "text/plain": [
       "   Gpa  Salary  work\n",
       "0    7  626307    35\n",
       "1   10  680674    18\n",
       "2   10   68870    33\n",
       "3    1  213381    39\n",
       "4    6  543328     5"
      ],
      "text/html": "<div>\n<style scoped>\n    .dataframe tbody tr th:only-of-type {\n        vertical-align: middle;\n    }\n\n    .dataframe tbody tr th {\n        vertical-align: top;\n    }\n\n    .dataframe thead th {\n        text-align: right;\n    }\n</style>\n<table border=\"1\" class=\"dataframe\">\n  <thead>\n    <tr style=\"text-align: right;\">\n      <th></th>\n      <th>Gpa</th>\n      <th>Salary</th>\n      <th>work</th>\n    </tr>\n  </thead>\n  <tbody>\n    <tr>\n      <th>0</th>\n      <td>7</td>\n      <td>626307</td>\n      <td>35</td>\n    </tr>\n    <tr>\n      <th>1</th>\n      <td>10</td>\n      <td>680674</td>\n      <td>18</td>\n    </tr>\n    <tr>\n      <th>2</th>\n      <td>10</td>\n      <td>68870</td>\n      <td>33</td>\n    </tr>\n    <tr>\n      <th>3</th>\n      <td>1</td>\n      <td>213381</td>\n      <td>39</td>\n    </tr>\n    <tr>\n      <th>4</th>\n      <td>6</td>\n      <td>543328</td>\n      <td>5</td>\n    </tr>\n  </tbody>\n</table>\n</div>"
     },
     "metadata": {},
     "execution_count": 40
    }
   ],
   "source": [
    "new_df"
   ]
  },
  {
   "cell_type": "code",
   "execution_count": 41,
   "metadata": {},
   "outputs": [],
   "source": [
    "new_df.to_csv(\"collegeTnP.csv\",index=False)"
   ]
  },
  {
   "cell_type": "code",
   "execution_count": 42,
   "metadata": {},
   "outputs": [
    {
     "output_type": "execute_result",
     "data": {
      "text/plain": [
       "   Gpa  Salary  work\n",
       "0    7  626307    35\n",
       "1   10  680674    18\n",
       "2   10   68870    33\n",
       "3    1  213381    39\n",
       "4    6  543328     5"
      ],
      "text/html": "<div>\n<style scoped>\n    .dataframe tbody tr th:only-of-type {\n        vertical-align: middle;\n    }\n\n    .dataframe tbody tr th {\n        vertical-align: top;\n    }\n\n    .dataframe thead th {\n        text-align: right;\n    }\n</style>\n<table border=\"1\" class=\"dataframe\">\n  <thead>\n    <tr style=\"text-align: right;\">\n      <th></th>\n      <th>Gpa</th>\n      <th>Salary</th>\n      <th>work</th>\n    </tr>\n  </thead>\n  <tbody>\n    <tr>\n      <th>0</th>\n      <td>7</td>\n      <td>626307</td>\n      <td>35</td>\n    </tr>\n    <tr>\n      <th>1</th>\n      <td>10</td>\n      <td>680674</td>\n      <td>18</td>\n    </tr>\n    <tr>\n      <th>2</th>\n      <td>10</td>\n      <td>68870</td>\n      <td>33</td>\n    </tr>\n    <tr>\n      <th>3</th>\n      <td>1</td>\n      <td>213381</td>\n      <td>39</td>\n    </tr>\n    <tr>\n      <th>4</th>\n      <td>6</td>\n      <td>543328</td>\n      <td>5</td>\n    </tr>\n  </tbody>\n</table>\n</div>"
     },
     "metadata": {},
     "execution_count": 42
    }
   ],
   "source": [
    "tnp = pd.read_csv(\"collegeTnP.csv\")\n",
    "\n",
    "tnp"
   ]
  }
 ]
}