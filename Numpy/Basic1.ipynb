{
 "cells": [
  {
   "cell_type": "markdown",
   "id": "6be35f5a",
   "metadata": {},
   "source": [
    "## NUMPY"
   ]
  },
  {
   "cell_type": "code",
   "execution_count": 2,
   "id": "6326a3ae",
   "metadata": {},
   "outputs": [
    {
     "output_type": "stream",
     "name": "stdout",
     "text": [
      "Requirement already satisfied: numpy in d:\\python\\lib\\site-packages (1.20.3)\n"
     ]
    }
   ],
   "source": [
    "!pip install numpy  # Installs numpy library from pip"
   ]
  },
  {
   "cell_type": "code",
   "execution_count": 1,
   "id": "8f018f60",
   "metadata": {},
   "outputs": [],
   "source": [
    "import numpy as np  # Import numpy library with alias np to access numpy functions with np"
   ]
  },
  {
   "cell_type": "code",
   "execution_count": 2,
   "id": "6599dce0",
   "metadata": {},
   "outputs": [
    {
     "output_type": "execute_result",
     "data": {
      "text/plain": [
       "5"
      ]
     },
     "metadata": {},
     "execution_count": 2
    }
   ],
   "source": [
    "np.absolute(-5)  # Outputs absolute value"
   ]
  },
  {
   "cell_type": "code",
   "execution_count": 3,
   "id": "b24dbe3f",
   "metadata": {},
   "outputs": [
    {
     "output_type": "stream",
     "name": "stdout",
     "text": [
      "[1 3 5 7]\n"
     ]
    }
   ],
   "source": [
    "# Numpy Arrays\n",
    "\n",
    "a = np.array([1,3,5,7]) # declares numpy array\n",
    "print(a)"
   ]
  },
  {
   "cell_type": "code",
   "execution_count": 4,
   "metadata": {},
   "outputs": [
    {
     "output_type": "stream",
     "name": "stdout",
     "text": [
      "<class 'numpy.ndarray'>\n"
     ]
    }
   ],
   "source": [
    "print(type(a)) # Outputs the type of a variable"
   ]
  },
  {
   "cell_type": "code",
   "execution_count": 5,
   "metadata": {},
   "outputs": [
    {
     "output_type": "stream",
     "name": "stdout",
     "text": [
      "[[ 1  2  3  4  5]\n [ 6  7  8  9 10]]\n"
     ]
    }
   ],
   "source": [
    "b = np.array([[1,2,3,4,5],[6,7,8,9,10]])  # Declares 2D array\n",
    "print(b)"
   ]
  },
  {
   "cell_type": "code",
   "execution_count": 6,
   "metadata": {},
   "outputs": [
    {
     "output_type": "stream",
     "name": "stdout",
     "text": [
      "(4,)\n(2, 5)\n"
     ]
    }
   ],
   "source": [
    "print(a.shape)\n",
    "print(b.shape)\n",
    "\n",
    "# .shape function is used to output the dimension"
   ]
  },
  {
   "cell_type": "code",
   "execution_count": 7,
   "metadata": {},
   "outputs": [
    {
     "output_type": "execute_result",
     "data": {
      "text/plain": [
       "array([[ 1,  6],\n",
       "       [ 2,  7],\n",
       "       [ 3,  8],\n",
       "       [ 4,  9],\n",
       "       [ 5, 10]])"
      ]
     },
     "metadata": {},
     "execution_count": 7
    }
   ],
   "source": [
    "b.T # .T outputs the transpose of matrix"
   ]
  },
  {
   "cell_type": "code",
   "execution_count": 8,
   "metadata": {},
   "outputs": [
    {
     "output_type": "stream",
     "name": "stdout",
     "text": [
      "[[ 55 130]\n [130 330]]\n[[ 55 130]\n [130 330]]\n"
     ]
    }
   ],
   "source": [
    "print(np.dot(b,b.T)) # Results the dot product 'Multiplication of Matrix'\n",
    "print(b.dot(b.T))"
   ]
  },
  {
   "cell_type": "code",
   "execution_count": 9,
   "metadata": {},
   "outputs": [
    {
     "output_type": "execute_result",
     "data": {
      "text/plain": [
       "array([52, 54, 46, 33, 79, 64, 56, 58, 70, 61])"
      ]
     },
     "metadata": {},
     "execution_count": 9
    }
   ],
   "source": [
    "np.random.randint(10,87,10) \n",
    "# Generates a random numpy array of size 10 b/w 10(inclusive) and 87(exclusive)"
   ]
  },
  {
   "cell_type": "code",
   "execution_count": 10,
   "metadata": {},
   "outputs": [
    {
     "output_type": "stream",
     "name": "stdout",
     "text": [
      "[[58 22 25 36 36]\n [27 52 24 62 67]\n [69 63 30 36 83]\n [13 16 78 21 28]\n [73 39 75 62 37]\n [66 35 42 43 82]\n [17 84 14 13 12]\n [13 85 34 45 66]\n [84 28 73 79 72]\n [77 73 38 85 35]] <class 'numpy.ndarray'>\n"
     ]
    }
   ],
   "source": [
    "matrix = np.random.randint(10,87,(10,5))\n",
    "print(matrix,type(matrix))\n",
    "# Generates a random numpy array of size 10x5 b/w 10(inclusive) and 87(exclusive)"
   ]
  },
  {
   "cell_type": "code",
   "execution_count": 11,
   "metadata": {},
   "outputs": [
    {
     "output_type": "execute_result",
     "data": {
      "text/plain": [
       "12"
      ]
     },
     "metadata": {},
     "execution_count": 11
    }
   ],
   "source": [
    "np.min(matrix) # minimum element in matrix"
   ]
  },
  {
   "cell_type": "code",
   "execution_count": 12,
   "metadata": {},
   "outputs": [
    {
     "output_type": "stream",
     "name": "stdout",
     "text": [
      "[  2  51  56  10   5 -33  56  10  99  39  51   2  56]\n"
     ]
    }
   ],
   "source": [
    "a = np.array([2,51,56,10,5,-33,56,10,99,39,51,2,56])\n",
    "print(a)"
   ]
  },
  {
   "cell_type": "code",
   "execution_count": 13,
   "metadata": {},
   "outputs": [
    {
     "output_type": "execute_result",
     "data": {
      "text/plain": [
       "5"
      ]
     },
     "metadata": {},
     "execution_count": 13
    }
   ],
   "source": [
    "np.argmin(a) # Returns the index of min element in array"
   ]
  },
  {
   "cell_type": "code",
   "execution_count": 14,
   "metadata": {},
   "outputs": [
    {
     "output_type": "execute_result",
     "data": {
      "text/plain": [
       "array([-33,   2,   5,  10,  39,  51,  56,  99])"
      ]
     },
     "metadata": {},
     "execution_count": 14
    }
   ],
   "source": [
    "np.unique(a) # Returns Unique List of Array 'a'(in this case) in sorted order"
   ]
  },
  {
   "cell_type": "code",
   "execution_count": 15,
   "metadata": {},
   "outputs": [
    {
     "output_type": "stream",
     "name": "stdout",
     "text": [
      "(array([-33,   2,   5,  10,  39,  51,  56,  99]), array([1, 2, 1, 2, 1, 2, 3, 1], dtype=int64))\n"
     ]
    }
   ],
   "source": [
    "c = np.unique(a,return_counts=True) # Return unique list but also with their freq\n",
    "print(c)"
   ]
  },
  {
   "cell_type": "code",
   "execution_count": 16,
   "metadata": {},
   "outputs": [
    {
     "output_type": "stream",
     "name": "stdout",
     "text": [
      "[-33   2   5  10  39  51  56  99]\n<class 'tuple'>\n<class 'numpy.ndarray'>\n"
     ]
    }
   ],
   "source": [
    "print(c[0])\n",
    "print(type(c))\n",
    "print(type(c[0]))"
   ]
  },
  {
   "cell_type": "code",
   "execution_count": 17,
   "metadata": {},
   "outputs": [
    {
     "output_type": "stream",
     "name": "stdout",
     "text": [
      "[1 2 1 2 1 2 3 1]\n"
     ]
    }
   ],
   "source": [
    "print(c[1])"
   ]
  },
  {
   "cell_type": "code",
   "execution_count": 18,
   "metadata": {},
   "outputs": [],
   "source": [
    "# Program to find out the Number with Highest Frequency in array"
   ]
  },
  {
   "cell_type": "code",
   "execution_count": 19,
   "metadata": {},
   "outputs": [
    {
     "output_type": "stream",
     "name": "stdout",
     "text": [
      "56\n"
     ]
    }
   ],
   "source": [
    "index = np.argmax(c[1]) # Gives index of highest freq of any number\n",
    "element = c[0][index] # Returns the Element with highest occurence \n",
    "print(element)\n",
    "# print(index)"
   ]
  },
  {
   "cell_type": "code",
   "execution_count": 20,
   "metadata": {},
   "outputs": [
    {
     "output_type": "execute_result",
     "data": {
      "text/plain": [
       "array([[58, 22, 25, 36, 36],\n",
       "       [27, 52, 24, 62, 67],\n",
       "       [69, 63, 30, 36, 83],\n",
       "       [13, 16, 78, 21, 28],\n",
       "       [73, 39, 75, 62, 37],\n",
       "       [66, 35, 42, 43, 82],\n",
       "       [17, 84, 14, 13, 12],\n",
       "       [13, 85, 34, 45, 66],\n",
       "       [84, 28, 73, 79, 72],\n",
       "       [77, 73, 38, 85, 35]])"
      ]
     },
     "metadata": {},
     "execution_count": 20
    }
   ],
   "source": [
    "# Slicing Arrays\n",
    "\n",
    "matrix"
   ]
  },
  {
   "cell_type": "code",
   "execution_count": 21,
   "metadata": {},
   "outputs": [
    {
     "output_type": "stream",
     "name": "stdout",
     "text": [
      "[[63 30 36 83]\n [16 78 21 28]]\n"
     ]
    }
   ],
   "source": [
    "print(matrix[2:4,1:5])"
   ]
  },
  {
   "cell_type": "code",
   "execution_count": 22,
   "metadata": {},
   "outputs": [
    {
     "output_type": "execute_result",
     "data": {
      "text/plain": [
       "58"
      ]
     },
     "metadata": {},
     "execution_count": 22
    }
   ],
   "source": [
    "matrix[0,0]"
   ]
  },
  {
   "cell_type": "code",
   "execution_count": 23,
   "metadata": {},
   "outputs": [
    {
     "output_type": "stream",
     "name": "stdout",
     "text": [
      "Zero matrix  \n [[0. 0. 0.]\n [0. 0. 0.]]\nOnes matrix  \n [[1. 1. 1. 1. 1.]\n [1. 1. 1. 1. 1.]\n [1. 1. 1. 1. 1.]\n [1. 1. 1. 1. 1.]]\nIdentity matrix  \n [[1. 0. 0.]\n [0. 1. 0.]\n [0. 0. 1.]]\nConstant matrix  \n [[8 8 8 8]\n [8 8 8 8]]\n"
     ]
    }
   ],
   "source": [
    "## Different Matrices\n",
    "\n",
    "x = np.zeros((2,3))  # Creates a zero matrix of specified order\n",
    "y = np.ones((4,5))  # Creates a Ones matrix of specified order\n",
    "z = np.eye(3)  # Creates identity matrix of specified order => Square Matrix\n",
    "\n",
    "w = np.full((2,4),8)  # Creates a constant matrix with specified constant of specified order\n",
    "\n",
    "print(\"Zero matrix  \\n\", x)\n",
    "\n",
    "print(\"Ones matrix  \\n\",y)\n",
    "\n",
    "print(\"Identity matrix  \\n\",z)\n",
    "\n",
    "print(\"Constant matrix  \\n\",w)\n"
   ]
  },
  {
   "cell_type": "code",
   "execution_count": 24,
   "metadata": {},
   "outputs": [
    {
     "output_type": "stream",
     "name": "stdout",
     "text": [
      "[ 7  9 11 13 15]\n[ 7  9 11 13 15]\n[-5 -5 -5 -5 -5]\n[-5 -5 -5 -5 -5]\n[ 6 14 24 36 50]\n[ 6 14 24 36 50]\n[0.16666667 0.28571429 0.375      0.44444444 0.5       ]\n[0.16666667 0.28571429 0.375      0.44444444 0.5       ]\n[1.         1.41421356 1.73205081 2.         2.23606798]\n"
     ]
    }
   ],
   "source": [
    "## Arithmetic Operations\n",
    "\n",
    "x = np.array([1,2,3,4,5])\n",
    "y = np.array([6,7,8,9,10])\n",
    "\n",
    "# Element Wise Operations\n",
    "\n",
    "print(x+y)\n",
    "print(np.add(x,y))\n",
    "\n",
    "print(x-y)\n",
    "print(np.subtract(x,y))\n",
    "\n",
    "print(x*y)\n",
    "print(np.multiply(x,y))\n",
    "\n",
    "print(x/y)\n",
    "print(np.divide(x,y))\n",
    "\n",
    "print(np.sqrt(x)) ## Returns array of square root of elements"
   ]
  },
  {
   "cell_type": "code",
   "execution_count": 25,
   "metadata": {},
   "outputs": [
    {
     "output_type": "stream",
     "name": "stdout",
     "text": [
      "[1 2 3 4 5]\n[ 6  7  8  9 10]\n130\n"
     ]
    }
   ],
   "source": [
    "## Multiplication/Dot Product of Vectors = Scalar\n",
    "\n",
    "print(x)\n",
    "print(y)\n",
    "\n",
    "print(np.dot(x,y)) # Results Scalar entity"
   ]
  },
  {
   "cell_type": "code",
   "execution_count": 26,
   "metadata": {},
   "outputs": [
    {
     "output_type": "stream",
     "name": "stdout",
     "text": [
      "[[1 2 3]\n [4 5 6]]\nLinear Sum:  158\nLinear Sum of 2D:  21\nVertical Sum:  [5 7 9]\nHorizontal Sum:  [ 6 15]\n"
     ]
    }
   ],
   "source": [
    "## Sum along axises\n",
    "d1 = np.array([31,22,34,65,6])\n",
    "d2 = np.array([[1,2,3],[4,5,6]])\n",
    "print(d2)\n",
    "\n",
    "print(\"Linear Sum: \",sum(d1)) # Sum of all elements in d1 array\n",
    "print(\"Linear Sum of 2D: \",np.sum(d2)) # Sum of elements in d2 2D array\n",
    "\n",
    "print(\"Vertical Sum: \",np.sum(d2,axis=0)) # Sum of elements along vertical axis\n",
    "print(\"Horizontal Sum: \",np.sum(d2,axis=1)) # Sum of elements along horizontal axis"
   ]
  },
  {
   "cell_type": "code",
   "execution_count": 27,
   "metadata": {},
   "outputs": [
    {
     "output_type": "stream",
     "name": "stdout",
     "text": [
      "[1 2 3 4 5] [ 6  7  8  9 10]\n[[ 1  2  3  4  5]\n [ 6  7  8  9 10]]\n[[ 1  6]\n [ 2  7]\n [ 3  8]\n [ 4  9]\n [ 5 10]]\n"
     ]
    }
   ],
   "source": [
    "## Stacking of Arrays\n",
    "\n",
    "print(x,y)\n",
    "\n",
    "# Note: axis by default is 0 and stack vertically\n",
    "# axis = 0 => Stacks Vertically\n",
    "# axis = 1 => Stacks Horizontally\n",
    "\n",
    "print(np.stack((x,y),axis=0)) # Stacks specified arrays vertically\n",
    "print(np.stack((x,y),axis=1)) # Stacks specified arrays horizontally"
   ]
  },
  {
   "cell_type": "code",
   "execution_count": 28,
   "metadata": {},
   "outputs": [
    {
     "output_type": "stream",
     "name": "stdout",
     "text": [
      "Original: \n [[1 2 3]\n [4 5 6]]\nShape:  (2, 3)\nReshaped: \n [[1]\n [2]\n [3]\n [4]\n [5]\n [6]]\n"
     ]
    }
   ],
   "source": [
    "## Reshape a Numpy Array\n",
    "\n",
    "print(\"Original: \\n\",d2)\n",
    "print(\"Shape: \",d2.shape)  # has 6 elements, try to reshape so every element get its place\n",
    "\n",
    "d1 = d2.reshape((3,2))  # Reshapes 2x3 array into 3x2 array\n",
    "d1 = d2.reshape((-1,2))  # calculates no. of rows automatically when col is provided \n",
    "d1 = d2.reshape((3,-1))  # calculates no. of cols automatically when rows is provided\n",
    "d1 = d2.reshape((6,))  # Reshapes 2x3 array into linear array\n",
    "d1 = d2.reshape((6,1))  # Reshapes 2x3 array into 6x1 array\n",
    "print(\"Reshaped: \\n\",d1)"
   ]
  },
  {
   "cell_type": "code",
   "execution_count": 29,
   "metadata": {},
   "outputs": [
    {
     "output_type": "stream",
     "name": "stdout",
     "text": [
      "[ 7  8  9 10 11 12 13 14 15 16]\n"
     ]
    }
   ],
   "source": [
    "arr = np.arange(10)+7  # Creates an array with given range\n",
    "\n",
    "print(arr)"
   ]
  },
  {
   "source": [
    "## Numpy Random Module\n",
    "- random: returns random float values in interval [0.0,1.0)\n",
    "- rand: Return random value in provided shape\n",
    "- randn: Returns values from standard normal distribution in provided shape\n",
    "- randint: Returns an array with provided no. of elements(10) in provided range (2,9)\n",
    "- choice: Returns a random element from the given array\n",
    "- shuffle: Randomly shuffles the elements of given array"
   ],
   "cell_type": "markdown",
   "metadata": {}
  },
  {
   "cell_type": "code",
   "execution_count": 30,
   "metadata": {},
   "outputs": [
    {
     "output_type": "stream",
     "name": "stdout",
     "text": [
      "[10 16  7  8 15  9 13 12 14 11]\n"
     ]
    }
   ],
   "source": [
    "np.random.shuffle(arr)  # Randomly shuffles the elements of given array\n",
    "print(arr)"
   ]
  },
  {
   "cell_type": "code",
   "execution_count": 31,
   "metadata": {},
   "outputs": [
    {
     "output_type": "execute_result",
     "data": {
      "text/plain": [
       "array([[0.7784191 , 0.48495965, 0.18068149],\n",
       "       [0.21530363, 0.81740216, 0.40441971]])"
      ]
     },
     "metadata": {},
     "execution_count": 31
    }
   ],
   "source": [
    "np.random.rand(2,3)  # Return random value in provided shape"
   ]
  },
  {
   "cell_type": "code",
   "execution_count": 32,
   "metadata": {},
   "outputs": [
    {
     "output_type": "execute_result",
     "data": {
      "text/plain": [
       "array([[ 1.96334137,  0.86397953,  0.27353828],\n",
       "       [-1.29586932, -2.06459218, -1.16085023]])"
      ]
     },
     "metadata": {},
     "execution_count": 32
    }
   ],
   "source": [
    "np.random.randn(2,3)  \n",
    "# Returns values from standard normal distribution in provided shape"
   ]
  },
  {
   "cell_type": "code",
   "execution_count": 33,
   "metadata": {},
   "outputs": [
    {
     "output_type": "execute_result",
     "data": {
      "text/plain": [
       "array([3, 5, 6, 5, 3, 8, 8, 2, 6, 4])"
      ]
     },
     "metadata": {},
     "execution_count": 33
    }
   ],
   "source": [
    "np.random.randint(2,9,10) \n",
    "# Returns an array with provided no. of elements(10) in provided range (2,9)"
   ]
  },
  {
   "cell_type": "code",
   "execution_count": 34,
   "metadata": {},
   "outputs": [
    {
     "output_type": "stream",
     "name": "stdout",
     "text": [
      "13\n"
     ]
    }
   ],
   "source": [
    "random_array_element = np.random.choice(arr)\n",
    "print(random_array_element)\n",
    "\n",
    "# Returns a random element from the given array"
   ]
  },
  {
   "cell_type": "code",
   "execution_count": 35,
   "metadata": {},
   "outputs": [],
   "source": [
    "np.random.seed(5) # Sets a seed value to get similar set of values"
   ]
  },
  {
   "source": [
    "## More Functions in Numpy\n",
    "- mean\n",
    "- average\n",
    "- standard deviation\n",
    "- variation"
   ],
   "cell_type": "markdown",
   "metadata": {}
  },
  {
   "cell_type": "code",
   "execution_count": 36,
   "metadata": {},
   "outputs": [
    {
     "output_type": "stream",
     "name": "stdout",
     "text": [
      "[[ 1 23  4  5  6]\n [22  3 55 32 43]]\n[28  8  6  5  7]\n"
     ]
    }
   ],
   "source": [
    "a = np.array([[1,23,4,5,6],[22,3,55,32,43]])\n",
    "b = np.array([28,8,6,5,7])\n",
    "\n",
    "print(a)\n",
    "print(b)"
   ]
  },
  {
   "cell_type": "code",
   "execution_count": 37,
   "metadata": {},
   "outputs": [
    {
     "output_type": "stream",
     "name": "stdout",
     "text": [
      "10.8\n10.8\n[11.5 13.  29.5 18.5 24.5]\n[ 7.8 31. ]\n"
     ]
    }
   ],
   "source": [
    "# MEAN\n",
    "mean = sum(b)/len(b)\n",
    "print(mean)\n",
    "\n",
    "#Inbuilt Numpy Function for MEAN\n",
    "print(np.mean(b))\n",
    "\n",
    "# Mean Along axis\n",
    "print(np.mean(a,axis=0))\n",
    "print(np.mean(a,axis=1))"
   ]
  },
  {
   "cell_type": "code",
   "execution_count": 38,
   "metadata": {},
   "outputs": [
    {
     "output_type": "stream",
     "name": "stdout",
     "text": [
      "8.55\n"
     ]
    }
   ],
   "source": [
    "# Average\n",
    "\n",
    "# .average() function computes the weighted average of elements in an array according to their respective weight given in another array. The function can have an axis parameter. If the axis is not specified, the array is flattened.\n",
    "\n",
    "w = np.array([2,3,4,5,6])\n",
    "\n",
    "print(np.average(b,weights=w))"
   ]
  },
  {
   "cell_type": "code",
   "execution_count": 39,
   "metadata": {},
   "outputs": [
    {
     "output_type": "stream",
     "name": "stdout",
     "text": [
      "8.657944328765346\n8.657944328765346\n"
     ]
    }
   ],
   "source": [
    "# Standard Deviation\n",
    "u = np.mean(b)\n",
    "stnd = np.sqrt(np.mean((abs(b-u)**2)))\n",
    "print(stnd)\n",
    "\n",
    "# Inbuilt Numpy Function for Standard Deviation\n",
    "print(np.std(b))"
   ]
  },
  {
   "cell_type": "code",
   "execution_count": 40,
   "metadata": {},
   "outputs": [
    {
     "output_type": "stream",
     "name": "stdout",
     "text": [
      "74.96000000000002\n",
      "74.96000000000001\n"
     ]
    }
   ],
   "source": [
    "# Variance\n",
    "variance = stnd**2\n",
    "print(variance)\n",
    "\n",
    "# Inbuilt Numpy Function for Variance\n",
    "print(np.var(b))"
   ]
  },
  {
   "source": [
    "### **Tensors**\n",
    "> *A tensor is an array with more than 2 axis. For Ex- An image is a Tensor*"
   ],
   "cell_type": "markdown",
   "metadata": {}
  },
  {
   "cell_type": "code",
   "execution_count": 79,
   "metadata": {},
   "outputs": [
    {
     "output_type": "display_data",
     "data": {
      "text/plain": "<Figure size 432x288 with 1 Axes>",
      "image/svg+xml": "<?xml version=\"1.0\" encoding=\"utf-8\" standalone=\"no\"?>\r\n<!DOCTYPE svg PUBLIC \"-//W3C//DTD SVG 1.1//EN\"\r\n  \"http://www.w3.org/Graphics/SVG/1.1/DTD/svg11.dtd\">\r\n<svg height=\"250.142944pt\" version=\"1.1\" viewBox=\"0 0 142.845 250.142944\" width=\"142.845pt\" xmlns=\"http://www.w3.org/2000/svg\" xmlns:xlink=\"http://www.w3.org/1999/xlink\">\r\n <metadata>\r\n  <rdf:RDF xmlns:cc=\"http://creativecommons.org/ns#\" xmlns:dc=\"http://purl.org/dc/elements/1.1/\" xmlns:rdf=\"http://www.w3.org/1999/02/22-rdf-syntax-ns#\">\r\n   <cc:Work>\r\n    <dc:type rdf:resource=\"http://purl.org/dc/dcmitype/StillImage\"/>\r\n    <dc:date>2021-06-06T16:40:11.076059</dc:date>\r\n    <dc:format>image/svg+xml</dc:format>\r\n    <dc:creator>\r\n     <cc:Agent>\r\n      <dc:title>Matplotlib v3.4.2, https://matplotlib.org/</dc:title>\r\n     </cc:Agent>\r\n    </dc:creator>\r\n   </cc:Work>\r\n  </rdf:RDF>\r\n </metadata>\r\n <defs>\r\n  <style type=\"text/css\">*{stroke-linecap:butt;stroke-linejoin:round;}</style>\r\n </defs>\r\n <g id=\"figure_1\">\r\n  <g id=\"patch_1\">\r\n   <path d=\"M 0 250.142944 \r\nL 142.845 250.142944 \r\nL 142.845 0 \r\nL 0 0 \r\nz\r\n\" style=\"fill:none;\"/>\r\n  </g>\r\n  <g id=\"axes_1\">\r\n   <g id=\"patch_2\">\r\n    <path d=\"M 26.925 226.264819 \r\nL 135.645 226.264819 \r\nL 135.645 8.824819 \r\nL 26.925 8.824819 \r\nz\r\n\" style=\"fill:#ffffff;\"/>\r\n   </g>\r\n   <g clip-path=\"url(#pb907d4e949)\">\r\n    <image height=\"218\" id=\"image6a307a45cb\" transform=\"scale(1 -1)translate(0 -218)\" width=\"109\" x=\"26.925\" xlink:href=\"data:image/png;base64,\r\niVBORw0KGgoAAAANSUhEUgAAAG0AAADaCAYAAACsN8ybAAACCklEQVR4nO3RwQkAIBDAsNP9d9YZfEkhmaDQdWbOkLJ/B/DOtCDTgkwLMi3ItCDTgkwLMi3ItCDTgkwLMi3ItCDTgkwLMi3ItCDTgkwLMi3ItCDTgkwLMi3ItCDTgkwLMi3ItCDTgkwLMi3ItCDTgkwLMi3ItCDTgkwLMi3ItCDTgkwLMi3ItCDTgkwLMi3ItCDTgkwLMi3ItCDTgkwLMi3ItCDTgkwLMi3ItCDTgkwLMi3ItCDTgkwLMi3ItCDTgkwLMi3ItCDTgkwLMi3ItCDTgkwLMi3ItCDTgkwLMi3ItCDTgkwLMi3ItCDTgkwLMi3ItCDTgkwLMi3ItCDTgkwLMi3ItCDTgkwLMi3ItCDTgkwLMi3ItCDTgkwLMi3ItCDTgkwLMi3ItCDTgkwLMi3ItCDTgkwLMi3ItCDTgkwLMi3ItCDTgkwLMi3ItCDTgkwLMi3ItCDTgkwLMi3ItCDTgkwLMi3ItCDTgkwLMi3ItCDTgkwLMi3ItCDTgkwLMi3ItCDTgkwLMi3ItCDTgkwLMi3ItCDTgkwLMi3ItCDTgkwLMi3ItCDTgkwLMi3ItCDTgkwLMi3ItCDTgkwLMi3ItCDTgkwLMi3ItCDTgkwLMi3ItCDTgkwLMi3ItCDTgkwLMi3ItCDTgkwLMi3ItCDTgkwLMi3ItCDTgkwLMi3ItCDTgkwLMi3oAu3kA7LNobHXAAAAAElFTkSuQmCC\" y=\"-8.264819\"/>\r\n   </g>\r\n   <g id=\"matplotlib.axis_1\">\r\n    <g id=\"xtick_1\">\r\n     <g id=\"line2d_1\">\r\n      <defs>\r\n       <path d=\"M 0 0 \r\nL 0 3.5 \r\n\" id=\"m0f1ed89d91\" style=\"stroke:#000000;stroke-width:0.8;\"/>\r\n      </defs>\r\n      <g>\r\n       <use style=\"stroke:#000000;stroke-width:0.8;\" x=\"29.0994\" xlink:href=\"#m0f1ed89d91\" y=\"226.264819\"/>\r\n      </g>\r\n     </g>\r\n     <g id=\"text_1\">\r\n      <!-- 0 -->\r\n      <g transform=\"translate(25.91815 240.863256)scale(0.1 -0.1)\">\r\n       <defs>\r\n        <path d=\"M 2034 4250 \r\nQ 1547 4250 1301 3770 \r\nQ 1056 3291 1056 2328 \r\nQ 1056 1369 1301 889 \r\nQ 1547 409 2034 409 \r\nQ 2525 409 2770 889 \r\nQ 3016 1369 3016 2328 \r\nQ 3016 3291 2770 3770 \r\nQ 2525 4250 2034 4250 \r\nz\r\nM 2034 4750 \r\nQ 2819 4750 3233 4129 \r\nQ 3647 3509 3647 2328 \r\nQ 3647 1150 3233 529 \r\nQ 2819 -91 2034 -91 \r\nQ 1250 -91 836 529 \r\nQ 422 1150 422 2328 \r\nQ 422 3509 836 4129 \r\nQ 1250 4750 2034 4750 \r\nz\r\n\" id=\"DejaVuSans-30\" transform=\"scale(0.015625)\"/>\r\n       </defs>\r\n       <use xlink:href=\"#DejaVuSans-30\"/>\r\n      </g>\r\n     </g>\r\n    </g>\r\n    <g id=\"xtick_2\">\r\n     <g id=\"line2d_2\">\r\n      <g>\r\n       <use style=\"stroke:#000000;stroke-width:0.8;\" x=\"72.5874\" xlink:href=\"#m0f1ed89d91\" y=\"226.264819\"/>\r\n      </g>\r\n     </g>\r\n     <g id=\"text_2\">\r\n      <!-- 10 -->\r\n      <g transform=\"translate(66.2249 240.863256)scale(0.1 -0.1)\">\r\n       <defs>\r\n        <path d=\"M 794 531 \r\nL 1825 531 \r\nL 1825 4091 \r\nL 703 3866 \r\nL 703 4441 \r\nL 1819 4666 \r\nL 2450 4666 \r\nL 2450 531 \r\nL 3481 531 \r\nL 3481 0 \r\nL 794 0 \r\nL 794 531 \r\nz\r\n\" id=\"DejaVuSans-31\" transform=\"scale(0.015625)\"/>\r\n       </defs>\r\n       <use xlink:href=\"#DejaVuSans-31\"/>\r\n       <use x=\"63.623047\" xlink:href=\"#DejaVuSans-30\"/>\r\n      </g>\r\n     </g>\r\n    </g>\r\n    <g id=\"xtick_3\">\r\n     <g id=\"line2d_3\">\r\n      <g>\r\n       <use style=\"stroke:#000000;stroke-width:0.8;\" x=\"116.0754\" xlink:href=\"#m0f1ed89d91\" y=\"226.264819\"/>\r\n      </g>\r\n     </g>\r\n     <g id=\"text_3\">\r\n      <!-- 20 -->\r\n      <g transform=\"translate(109.7129 240.863256)scale(0.1 -0.1)\">\r\n       <defs>\r\n        <path d=\"M 1228 531 \r\nL 3431 531 \r\nL 3431 0 \r\nL 469 0 \r\nL 469 531 \r\nQ 828 903 1448 1529 \r\nQ 2069 2156 2228 2338 \r\nQ 2531 2678 2651 2914 \r\nQ 2772 3150 2772 3378 \r\nQ 2772 3750 2511 3984 \r\nQ 2250 4219 1831 4219 \r\nQ 1534 4219 1204 4116 \r\nQ 875 4013 500 3803 \r\nL 500 4441 \r\nQ 881 4594 1212 4672 \r\nQ 1544 4750 1819 4750 \r\nQ 2544 4750 2975 4387 \r\nQ 3406 4025 3406 3419 \r\nQ 3406 3131 3298 2873 \r\nQ 3191 2616 2906 2266 \r\nQ 2828 2175 2409 1742 \r\nQ 1991 1309 1228 531 \r\nz\r\n\" id=\"DejaVuSans-32\" transform=\"scale(0.015625)\"/>\r\n       </defs>\r\n       <use xlink:href=\"#DejaVuSans-32\"/>\r\n       <use x=\"63.623047\" xlink:href=\"#DejaVuSans-30\"/>\r\n      </g>\r\n     </g>\r\n    </g>\r\n   </g>\r\n   <g id=\"matplotlib.axis_2\">\r\n    <g id=\"ytick_1\">\r\n     <g id=\"line2d_4\">\r\n      <defs>\r\n       <path d=\"M 0 0 \r\nL -3.5 0 \r\n\" id=\"m8d533a33a4\" style=\"stroke:#000000;stroke-width:0.8;\"/>\r\n      </defs>\r\n      <g>\r\n       <use style=\"stroke:#000000;stroke-width:0.8;\" x=\"26.925\" xlink:href=\"#m8d533a33a4\" y=\"10.999219\"/>\r\n      </g>\r\n     </g>\r\n     <g id=\"text_4\">\r\n      <!-- 0 -->\r\n      <g transform=\"translate(13.5625 14.798437)scale(0.1 -0.1)\">\r\n       <use xlink:href=\"#DejaVuSans-30\"/>\r\n      </g>\r\n     </g>\r\n    </g>\r\n    <g id=\"ytick_2\">\r\n     <g id=\"line2d_5\">\r\n      <g>\r\n       <use style=\"stroke:#000000;stroke-width:0.8;\" x=\"26.925\" xlink:href=\"#m8d533a33a4\" y=\"54.487219\"/>\r\n      </g>\r\n     </g>\r\n     <g id=\"text_5\">\r\n      <!-- 10 -->\r\n      <g transform=\"translate(7.2 58.286437)scale(0.1 -0.1)\">\r\n       <use xlink:href=\"#DejaVuSans-31\"/>\r\n       <use x=\"63.623047\" xlink:href=\"#DejaVuSans-30\"/>\r\n      </g>\r\n     </g>\r\n    </g>\r\n    <g id=\"ytick_3\">\r\n     <g id=\"line2d_6\">\r\n      <g>\r\n       <use style=\"stroke:#000000;stroke-width:0.8;\" x=\"26.925\" xlink:href=\"#m8d533a33a4\" y=\"97.975219\"/>\r\n      </g>\r\n     </g>\r\n     <g id=\"text_6\">\r\n      <!-- 20 -->\r\n      <g transform=\"translate(7.2 101.774437)scale(0.1 -0.1)\">\r\n       <use xlink:href=\"#DejaVuSans-32\"/>\r\n       <use x=\"63.623047\" xlink:href=\"#DejaVuSans-30\"/>\r\n      </g>\r\n     </g>\r\n    </g>\r\n    <g id=\"ytick_4\">\r\n     <g id=\"line2d_7\">\r\n      <g>\r\n       <use style=\"stroke:#000000;stroke-width:0.8;\" x=\"26.925\" xlink:href=\"#m8d533a33a4\" y=\"141.463219\"/>\r\n      </g>\r\n     </g>\r\n     <g id=\"text_7\">\r\n      <!-- 30 -->\r\n      <g transform=\"translate(7.2 145.262437)scale(0.1 -0.1)\">\r\n       <defs>\r\n        <path d=\"M 2597 2516 \r\nQ 3050 2419 3304 2112 \r\nQ 3559 1806 3559 1356 \r\nQ 3559 666 3084 287 \r\nQ 2609 -91 1734 -91 \r\nQ 1441 -91 1130 -33 \r\nQ 819 25 488 141 \r\nL 488 750 \r\nQ 750 597 1062 519 \r\nQ 1375 441 1716 441 \r\nQ 2309 441 2620 675 \r\nQ 2931 909 2931 1356 \r\nQ 2931 1769 2642 2001 \r\nQ 2353 2234 1838 2234 \r\nL 1294 2234 \r\nL 1294 2753 \r\nL 1863 2753 \r\nQ 2328 2753 2575 2939 \r\nQ 2822 3125 2822 3475 \r\nQ 2822 3834 2567 4026 \r\nQ 2313 4219 1838 4219 \r\nQ 1578 4219 1281 4162 \r\nQ 984 4106 628 3988 \r\nL 628 4550 \r\nQ 988 4650 1302 4700 \r\nQ 1616 4750 1894 4750 \r\nQ 2613 4750 3031 4423 \r\nQ 3450 4097 3450 3541 \r\nQ 3450 3153 3228 2886 \r\nQ 3006 2619 2597 2516 \r\nz\r\n\" id=\"DejaVuSans-33\" transform=\"scale(0.015625)\"/>\r\n       </defs>\r\n       <use xlink:href=\"#DejaVuSans-33\"/>\r\n       <use x=\"63.623047\" xlink:href=\"#DejaVuSans-30\"/>\r\n      </g>\r\n     </g>\r\n    </g>\r\n    <g id=\"ytick_5\">\r\n     <g id=\"line2d_8\">\r\n      <g>\r\n       <use style=\"stroke:#000000;stroke-width:0.8;\" x=\"26.925\" xlink:href=\"#m8d533a33a4\" y=\"184.951219\"/>\r\n      </g>\r\n     </g>\r\n     <g id=\"text_8\">\r\n      <!-- 40 -->\r\n      <g transform=\"translate(7.2 188.750437)scale(0.1 -0.1)\">\r\n       <defs>\r\n        <path d=\"M 2419 4116 \r\nL 825 1625 \r\nL 2419 1625 \r\nL 2419 4116 \r\nz\r\nM 2253 4666 \r\nL 3047 4666 \r\nL 3047 1625 \r\nL 3713 1625 \r\nL 3713 1100 \r\nL 3047 1100 \r\nL 3047 0 \r\nL 2419 0 \r\nL 2419 1100 \r\nL 313 1100 \r\nL 313 1709 \r\nL 2253 4666 \r\nz\r\n\" id=\"DejaVuSans-34\" transform=\"scale(0.015625)\"/>\r\n       </defs>\r\n       <use xlink:href=\"#DejaVuSans-34\"/>\r\n       <use x=\"63.623047\" xlink:href=\"#DejaVuSans-30\"/>\r\n      </g>\r\n     </g>\r\n    </g>\r\n   </g>\r\n   <g id=\"patch_3\">\r\n    <path d=\"M 26.925 226.264819 \r\nL 26.925 8.824819 \r\n\" style=\"fill:none;stroke:#000000;stroke-linecap:square;stroke-linejoin:miter;stroke-width:0.8;\"/>\r\n   </g>\r\n   <g id=\"patch_4\">\r\n    <path d=\"M 135.645 226.264819 \r\nL 135.645 8.824819 \r\n\" style=\"fill:none;stroke:#000000;stroke-linecap:square;stroke-linejoin:miter;stroke-width:0.8;\"/>\r\n   </g>\r\n   <g id=\"patch_5\">\r\n    <path d=\"M 26.925 226.264819 \r\nL 135.645 226.264819 \r\n\" style=\"fill:none;stroke:#000000;stroke-linecap:square;stroke-linejoin:miter;stroke-width:0.8;\"/>\r\n   </g>\r\n   <g id=\"patch_6\">\r\n    <path d=\"M 26.925 8.824819 \r\nL 135.645 8.824819 \r\n\" style=\"fill:none;stroke:#000000;stroke-linecap:square;stroke-linejoin:miter;stroke-width:0.8;\"/>\r\n   </g>\r\n  </g>\r\n </g>\r\n <defs>\r\n  <clipPath id=\"pb907d4e949\">\r\n   <rect height=\"217.44\" width=\"108.72\" x=\"26.925\" y=\"8.824819\"/>\r\n  </clipPath>\r\n </defs>\r\n</svg>\r\n",
      "image/png": "[encoded data removed]"
     },
     "metadata": {
      "needs_background": "light"
     }
    }
   ],
   "source": [
    "T = np.zeros((50,25,3),dtype=\"uint8\")\n",
    "# print(T.shape)\n",
    "# print(T)\n",
    "T[ : , : , 0] = 255\n",
    "\n",
    "import matplotlib.pyplot as plt \n",
    "\n",
    "\n",
    "plt.imshow(T)\n",
    "plt.show()"
   ]
  },
  {
   "source": [
    "### **Transpose**"
   ],
   "cell_type": "markdown",
   "metadata": {}
  },
  {
   "cell_type": "code",
   "execution_count": 54,
   "metadata": {},
   "outputs": [],
   "source": [
    "X = np.random.randint(5,100,12)\n",
    "# print(X)"
   ]
  },
  {
   "cell_type": "code",
   "execution_count": 60,
   "metadata": {},
   "outputs": [
    {
     "output_type": "stream",
     "name": "stdout",
     "text": [
      "[[72]\n [70]\n [60]\n [ 8]\n [96]\n [83]\n [32]\n [34]\n [38]\n [94]\n [90]\n [12]]\n"
     ]
    }
   ],
   "source": [
    "X = X.reshape((12,1))\n",
    "print(X)"
   ]
  },
  {
   "cell_type": "code",
   "execution_count": 61,
   "metadata": {},
   "outputs": [
    {
     "output_type": "execute_result",
     "data": {
      "text/plain": [
       "array([[72, 70, 60,  8, 96, 83, 32, 34, 38, 94, 90, 12]])"
      ]
     },
     "metadata": {},
     "execution_count": 61
    }
   ],
   "source": [
    "X.T"
   ]
  },
  {
   "cell_type": "code",
   "execution_count": 62,
   "metadata": {},
   "outputs": [],
   "source": [
    "M = np.random.randint(20,100,(3,4))"
   ]
  },
  {
   "cell_type": "code",
   "execution_count": 68,
   "metadata": {},
   "outputs": [
    {
     "output_type": "stream",
     "name": "stdout",
     "text": [
      "[[36 34 51 29]\n [58 67 36 25]\n [54 65 79 44]]\n[[36 58 54]\n [34 67 65]\n [51 36 79]\n [29 25 44]]\n(4, 3)\n"
     ]
    }
   ],
   "source": [
    "print(M)\n",
    "\n",
    "M1 = M.T\n",
    "print(M1)\n",
    "print(M1.shape)"
   ]
  },
  {
   "cell_type": "code",
   "execution_count": 67,
   "metadata": {},
   "outputs": [
    {
     "output_type": "stream",
     "name": "stdout",
     "text": [
      "36\n"
     ]
    }
   ],
   "source": [
    "print(M1[0][0])"
   ]
  },
  {
   "cell_type": "code",
   "execution_count": 93,
   "metadata": {},
   "outputs": [
    {
     "output_type": "stream",
     "name": "stdout",
     "text": [
      "(50, 25, 3)\n(3, 50, 25)\n[255 255 255 255 255 255 255 255 255 255 255 255 255 255 255 255 255 255\n 255 255 255 255 255 255 255]\n"
     ]
    }
   ],
   "source": [
    "## Transpose of Tensor\n",
    "\n",
    "# print(T)\n",
    "print(T.shape)\n",
    "# print(T[0][0])  ## The first pixel\n",
    "\n",
    "T1 = np.transpose(T,axes=(2,0,1))\n",
    "print(T1.shape)\n",
    "\n",
    "print(T1[0][0])"
   ]
  }
 ],
 "metadata": {
  "kernelspec": {
   "name": "python395jvsc74a57bd04ce0e62306dd6a5716965d4519ada776f947e6dfc145b604b11307c10277ef29",
   "display_name": "Python 3.9.5 64-bit"
  },
  "language_info": {
   "codemirror_mode": {
    "name": "ipython",
    "version": 3
   },
   "file_extension": ".py",
   "mimetype": "text/x-python",
   "name": "python",
   "nbconvert_exporter": "python",
   "pygments_lexer": "ipython3",
   "version": "3.9.5"
  }
 },
 "nbformat": 4,
 "nbformat_minor": 5
}